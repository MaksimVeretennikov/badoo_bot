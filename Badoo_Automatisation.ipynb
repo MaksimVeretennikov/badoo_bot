{
 "cells": [
  {
   "cell_type": "code",
   "execution_count": null,
   "metadata": {
    "scrolled": false
   },
   "outputs": [
    {
     "name": "stdout",
     "output_type": "stream",
     "text": [
      "\n",
      "Елизавета, 24\n",
      "@elidistel\n",
      "http://badoo.com/profile/0zAhMACTgxODU2MDE2Nwgu7lxkAAAAACDww7liHKwJXUjsnhV8tFXOSIZ2Ht-ozuCi_iUFKa7sKw?from=messenger\n",
      "\n",
      "- 0 - 5 - 10 - 15 - "
     ]
    }
   ],
   "source": [
    "import time\n",
    "from selenium import webdriver\n",
    "from selenium.webdriver.chrome.service import Service\n",
    "from selenium.webdriver.common.keys import Keys\n",
    "import warnings\n",
    "import string\n",
    "\n",
    "check_tg_nick = set(list(string.ascii_lowercase) + list('@'))\n",
    "\n",
    "# База номеров и ников телочек\n",
    "base = set()\n",
    "\n",
    "# Скрипт переписки\n",
    "s1 = 'Привет) понравилась) что хотела бы на сайте?'\n",
    "#s2_prev = 'Честно говоря, любви всей жизни тут не ищу. приятное лайтовое общение, а дальше видно будет)'\n",
    "s2 = 'Честно говоря, чего-то особо серьезного тут не ищу. приятное лайтовое общение, а дальше видно будет)'\n",
    "s3 = 'пиши вотсап или тг, там удобнее'\n",
    "# s4 = 'туда редко захожу'\n",
    "# s5 = 'я не вижу такие сообщения, напиши текстом'\n",
    "\n",
    "check_msg = 'Sorry, this type of message is not supported'\n",
    "\n",
    "# stupid_social_networks = {'инст', 'вк', 'инста', 'инстаграм', 'вконтакте', 'инсте', 'инсту'}\n",
    "\n",
    "n_seen_dialogues = 0\n",
    "n_likes = 0\n",
    "\n",
    "# Убираем ненужные warnings\n",
    "warnings.filterwarnings(\"ignore\")\n",
    "\n",
    "s = Service('/Users/maksimveretennikov/Desktop/Coding/Project_Badoo/chromedriver')\n",
    "driver = webdriver.Chrome(service = s)\n",
    "driver.get('https://badoo.com/en-us/signin/?f=top')\n",
    "\n",
    "def login():\n",
    "    try:\n",
    "        time.sleep(2)\n",
    "        login_field = driver.find_element_by_css_selector('.text-field__input.text-field__input--ltr.js-signin-login')\n",
    "        login_field.send_keys('veretennikov.maksi@yandex.ru')\n",
    "        pass_field = driver.find_element_by_css_selector('.text-field__input.js-signin-password')\n",
    "        pass_field.send_keys('192837465m')\n",
    "        time.sleep(2)\n",
    "        btn_login = driver.find_element_by_css_selector('.btn--block')\n",
    "        btn_login.click()\n",
    "        time.sleep(4)\n",
    "    except Exception as e: \n",
    "        print('Не логинится( Ошибка:')\n",
    "        #print(e)\n",
    "        \n",
    "\n",
    "\n",
    "def new_button():\n",
    "    try:\n",
    "        time.sleep(1)\n",
    "        btn_new = driver.find_element_by_css_selector('.react-button.react-button--filled.react-button--md.react-button--color-primary.react-button--narrow')\n",
    "        btn_new.click()\n",
    "        time.sleep(1)\n",
    "    except Exception as e: \n",
    "        print('Новая кнопка( Ошибка:')\n",
    "#         print(e)\n",
    "\n",
    "def skip():\n",
    "    try:\n",
    "        time.sleep(1)\n",
    "        btn_skip = driver.find_element_by_css_selector('.js-chrome-pushes-deny')\n",
    "        btn_skip.click()\n",
    "        time.sleep(1)\n",
    "    except Exception as e: \n",
    "        print('Не пропускает сообщение( Ошибка:')\n",
    "        print(e)\n",
    "        \n",
    "\n",
    "def like(n):\n",
    "    global n_likes\n",
    "    for i in range(n):\n",
    "        try:\n",
    "            time.sleep(0.2)\n",
    "            btn_like = driver.find_element_by_css_selector('.js-profile-header-vote-yes')\n",
    "            btn_like.click()\n",
    "\n",
    "            if n_seen_dialogues == 0 and n_likes == 0:\n",
    "                skip()\n",
    "            n_likes += 1\n",
    "        except Exception as e: \n",
    "            click_close()\n",
    "            time.sleep(0.5)\n",
    "    time.sleep(2)\n",
    "            \n",
    "\n",
    "def analyse_messages(messages):\n",
    "    time.sleep(1)\n",
    "    try:\n",
    "        for msg in messages:\n",
    "#             if msg == check_msg:\n",
    "#                 send_message(s5)\n",
    "#                 return 0\n",
    "            for w in msg.split():\n",
    "                word = w.lower().replace('?', '').replace(',', '').replace('.', '').replace(')', '').replace('(', '').replace('-','').replace('+','')\n",
    "                if word.isdigit() and len(word) >= 10:\n",
    "                    return word\n",
    "                elif word and word[0] in check_tg_nick:\n",
    "                    return word\n",
    "    except Exception as e: \n",
    "        print('Метод analyse_messages барахлит!( Ошибка:')\n",
    "        print(e)\n",
    "    return 0\n",
    "\n",
    "\n",
    "def send_message(s):\n",
    "    global n_seen_dialogues\n",
    "    \n",
    "    try:\n",
    "        input_message_field = driver.find_element_by_css_selector('.messenger-tools__input')\n",
    "        input_message_field.send_keys(s)\n",
    "\n",
    "        time.sleep(0.5)\n",
    "        btn_send_message = driver.find_element_by_css_selector('.js-send-message')\n",
    "        btn_send_message.click()\n",
    "        time.sleep(0.5)\n",
    "\n",
    "        if n_seen_dialogues == 0 and n_likes == 0:\n",
    "            skip()\n",
    "\n",
    "        n_seen_dialogues += 1\n",
    "    except Exception as e: \n",
    "        print('Не получилось отправить сообщение!( Ошибка:')\n",
    "        #print(e)\n",
    "        \n",
    "def go_to_messages():\n",
    "    try:\n",
    "        time.sleep(1)\n",
    "        url = '/messenger/open'\n",
    "        message_link = driver.find_element_by_xpath('//a[@href=\"' + url + '\"]')\n",
    "        message_link.click()\n",
    "        time.sleep(2)\n",
    "    except Exception as e: \n",
    "        print('Не получилось перейти в сообщения!( Ошибка:')\n",
    "        print(e)\n",
    "        \n",
    "def go_to_encounters():\n",
    "    time.sleep(1)\n",
    "    driver.refresh()\n",
    "    time.sleep(2)\n",
    "\n",
    "def get_new_messages():\n",
    "    try:\n",
    "        time.sleep(1)\n",
    "        # текущий диалог\n",
    "        dialogues = driver.find_elements_by_css_selector('.contact-card.im_user.js-contacts-item-content.is-current')\n",
    "        # новые сообщения от 'старых' девочек\n",
    "        dialogues += driver.find_elements_by_css_selector('.contact-card.has-new-message.im_user.js-contacts-item-content')\n",
    "        # новый мэтчи\n",
    "        dialogues += driver.find_elements_by_css_selector('.contact-card.is-new-match.im_user.js-contacts-item-content') \n",
    "        time.sleep(1)\n",
    "        return list(dict.fromkeys(dialogues))\n",
    "    except Exception as e: \n",
    "        print('Ошибка при получении диалогов!( Ошибка:')\n",
    "        print(e)\n",
    "    return []\n",
    "\n",
    "def get_contacts():\n",
    "    time.sleep(0.5)\n",
    "    # получение контактов\n",
    "    contacts = driver.find_elements_by_css_selector('.contacts__item.js-contacts-item')\n",
    "    time.sleep(0.5)\n",
    "    return contacts\n",
    "\n",
    "def click_close():\n",
    "    try:\n",
    "        time.sleep(0.5)\n",
    "        close_button = driver.find_element_by_css_selector('.ovl__close')\n",
    "        close_button.click()\n",
    "        time.sleep(0.5)\n",
    "    except Exception as e: \n",
    "        a = 2 + 2\n",
    "#         print('Не кликает кнопку закрыть!')\n",
    "        #print(e)\n",
    "    \n",
    "\n",
    "def get_all_new_messages():\n",
    "    try:\n",
    "        dialogues = get_new_messages()\n",
    "        new = len(dialogues)\n",
    "        prev = 1\n",
    "        while (new > prev):\n",
    "            time.sleep(1.5)\n",
    "            # переходим на последний доступный диалог на странице\n",
    "            prev = new\n",
    "#             print('Предыдущие:', prev)\n",
    "            get_contacts()[-1].click()\n",
    "            new_messages = get_new_messages()\n",
    "            # сохраняем порядок, убираем дубликаты\n",
    "            dialogues = list(dict.fromkeys(dialogues + new_messages))\n",
    "            new = len(new_messages)\n",
    "\n",
    "        return dialogues\n",
    "    except Exception as e: \n",
    "        print('Ошибка при получении всех диалогов!( Ошибка:')\n",
    "        print(e)\n",
    "    return []\n",
    "\n",
    "def reload_messages():\n",
    "    time.sleep(1)\n",
    "    driver.refresh()\n",
    "    time.sleep(3)\n",
    "    go_to_messages()\n",
    "\n",
    "def reload_messages_and_like_n_girls(n):\n",
    "    time.sleep(1)\n",
    "    driver.refresh()\n",
    "    time.sleep(15)\n",
    "    new_button()\n",
    "    like(n)\n",
    "    time.sleep(3)\n",
    "    go_to_messages()\n",
    "    \n",
    "def print_info():\n",
    "    try:\n",
    "        time.sleep(0.7)\n",
    "        name = driver.find_element_by_css_selector('.connection-header__name')\n",
    "        age = driver.find_element_by_css_selector('.connection-header__age')\n",
    "        time.sleep(0.3)\n",
    "        print(name.text + age.text)\n",
    "        time.sleep(0.7)\n",
    "    except Exception as e: \n",
    "        print('Ошибка при получении имени телочки!( Ошибка:')\n",
    "        print(e)\n",
    "    \n",
    "\n",
    "def reply():\n",
    "    global base\n",
    "    try:\n",
    "        txt_msgs = driver.find_elements_by_css_selector('.p-2.text-break-words')\n",
    "        time.sleep(0.6)\n",
    "        num_msgs = len(txt_msgs)\n",
    "        if num_msgs == 0:\n",
    "            send_message(s1)\n",
    "        else:\n",
    "            dialogue_level = 0\n",
    "            flag_answered_first_msg = False\n",
    "            flag_answered_second_msg = False\n",
    "            messages_after_third_message = []\n",
    "            for txt_msg in txt_msgs:\n",
    "                if txt_msg.text in (s1, s2, s3):\n",
    "                    dialogue_level += 1\n",
    "                else:\n",
    "                    if dialogue_level == 1:\n",
    "                        flag_answered_first_msg = True\n",
    "                    if dialogue_level == 2:\n",
    "                        flag_answered_second_msg = True\n",
    "                    elif dialogue_level == 3:\n",
    "                        messages_after_third_message.append(txt_msg.text)\n",
    "            if dialogue_level == 0:\n",
    "                send_message(s1)\n",
    "            elif dialogue_level == 1 and flag_answered_first_msg == True:\n",
    "                send_message(s2)\n",
    "            elif dialogue_level == 2 and flag_answered_second_msg == True:\n",
    "                send_message(s3)\n",
    "            elif len(messages_after_third_message) > 0:\n",
    "                girls_contact = analyse_messages(messages_after_third_message)\n",
    "                if girls_contact and girls_contact not in base:\n",
    "                    base.add(girls_contact)\n",
    "                    link = ''\n",
    "                    try:\n",
    "                        # ссылка на профиль девочки\n",
    "                        girl_profile = driver.find_element_by_css_selector('.b-link.js-connection-profile')\n",
    "                        link = girl_profile.get_attribute(\"href\")\n",
    "                        # убираем s из https://\n",
    "                        link = 'http://' + link[8:]\n",
    "                    except Exception as e: \n",
    "                        print('Ошибка при получении ссылки!( Ошибка:')\n",
    "                        print(e)\n",
    "                    print()\n",
    "                    print_info()\n",
    "                    print(girls_contact)\n",
    "                    print(link)\n",
    "                    print()\n",
    "                \n",
    "    \n",
    "        time.sleep(0.3)\n",
    "    except Exception as e: \n",
    "        print('Ошибка при ответе телочке!( Ошибка:')\n",
    "        print(e)\n",
    "    time.sleep(1)\n",
    "\n",
    "login()\n",
    "\n",
    "time.sleep(15)\n",
    "\n",
    "new_button()\n",
    "\n",
    "like(50)\n",
    "\n",
    "go_to_messages()\n",
    "\n",
    "while True:\n",
    "    dialogues = get_all_new_messages()\n",
    "    \n",
    "    for dialogue in dialogues:\n",
    "        flag_clicked_new_dialogue = True\n",
    "        try:\n",
    "            dialogue.click()\n",
    "        except Exception as e: \n",
    "            #print(e)\n",
    "            flag_clicked_new_dialogue = False\n",
    "        time.sleep(1.5)\n",
    "        if flag_clicked_new_dialogue:\n",
    "            reply()\n",
    "    \n",
    "    number_of_minutes = 15\n",
    "    print('- 0', end = ' - ')\n",
    "    for i in range(100):\n",
    "        time.sleep(60 * number_of_minutes / 100)\n",
    "        #print('-- ' + str(100 * (i + 1) / number_of_minutes)  + '%' + ' --', end = '')\n",
    "        if i % 5 == 0:\n",
    "            print(str(i + 5), end = ' - ')\n",
    "    print(end = '\\n')\n",
    "    reload_messages_and_like_n_girls(100)\n",
    "\n",
    "time.sleep(10)\n",
    "\n",
    "driver.quit()"
   ]
  },
  {
   "cell_type": "code",
   "execution_count": 2,
   "metadata": {},
   "outputs": [
    {
     "name": "stdout",
     "output_type": "stream",
     "text": [
      "{'kira_tesss', '89107201117', '89094638038', '@krpnkvlr', 'vitaliya_tishchenko', '89997801751'}\n",
      "6\n"
     ]
    }
   ],
   "source": [
    "print(base)\n",
    "print(len(base))"
   ]
  },
  {
   "cell_type": "code",
   "execution_count": 3,
   "metadata": {},
   "outputs": [
    {
     "name": "stdout",
     "output_type": "stream",
     "text": [
      "{'@oresama1208', '@marietta_03', 'malta_ss', 'vikkki2812', '89191381023', '@babka_masha', '@aleksandra199526', '@miss_ksenia_12', '89854655730', '@pvostrukhina', 'https://tme/tinatin99', '79168681468', '@delfon', '89265401224', '@ustinatasha', '@anna_surowaja', '@ksenia_gribanova', 'karachka2020', '89161949858', '89773137747', '@tereshonok046'}\n",
      "21\n"
     ]
    }
   ],
   "source": [
    "print(base)\n",
    "print(len(base))"
   ]
  },
  {
   "cell_type": "code",
   "execution_count": 8,
   "metadata": {},
   "outputs": [
    {
     "name": "stdout",
     "output_type": "stream",
     "text": [
      "{'@salashinskaya', '@belykh_p', '89623348361', 'sure', 'belova8967', '@stephani0', '89166319614', '@eka_sham', '@evgeniya1892', 'kata_6_6', 'alinkaa_meow', '89777415662', '89183962253', 'yanchik_d', 'vi_aviii', '89604511816', 'jpjp39', '@eirojr', 'fox_58_fox', '@alina11211024', '89511202134', 'https://tme/webdesignbsk', '@vi3sa', 'viiiere', '89266605270', 'https://tme/isabellabelka', 'kitikill', 'i', '@annageiden', '89150170718', '89056787477', '@varechka123', '@jwxt_jwxt'}\n",
      "33\n"
     ]
    }
   ],
   "source": [
    "print(base)\n",
    "print(len(base))"
   ]
  },
  {
   "cell_type": "code",
   "execution_count": 3,
   "metadata": {},
   "outputs": [
    {
     "name": "stdout",
     "output_type": "stream",
     "text": [
      "{'bless_exc', '@val120595', '89998576674', '@yu_selfish', '@victoriavenski', 'https://tme/npavlovna', 'kats69', '89029495459', '@innnakentiy', '@ginger_natali', 'elvmh', '@svetlana6514', '89094324439', '89523599884', 'dasha_367', '@jesuisli', '89998731423', '89376583394', '89772927098', '89637768129', '@penguinchik1'}\n",
      "21\n"
     ]
    }
   ],
   "source": [
    "print(base)\n",
    "print(len(base))"
   ]
  },
  {
   "cell_type": "code",
   "execution_count": 4,
   "metadata": {},
   "outputs": [
    {
     "name": "stdout",
     "output_type": "stream",
     "text": [
      "{'mtnsva', 'mn93_h', 'margo_kumm', '@alshvetsova', '89144506712', '89523519221', 'whatsapp', 'dashik_30', 'nem_arda', '8911409809', 'refipos', '@palmind99', '89956577388', 'https://tme/kathlee_k', '@dkomarova21', 'unforgetablle17', '@amelia_389', '@elenadamaskina'}\n",
      "18\n"
     ]
    }
   ],
   "source": [
    "print(base)\n",
    "print(len(base))"
   ]
  },
  {
   "cell_type": "code",
   "execution_count": 5,
   "metadata": {},
   "outputs": [
    {
     "name": "stdout",
     "output_type": "stream",
     "text": [
      "{'@wryyyyy0', 'lova_alinka', 'vanniesss', '89381315882', '89614308812', '@princessdi15', '79613047814', '79896131773', 'prostite_shto', '89194700608', '@quheondar', 'vikaflora8', 'bk_192', '89888995270', '@l_kseniia_l', '89112273560', 'pilipaerkatena', '@leslii', '89515179031', 'slushaitelyudi', '@yliuakot27', '89215736389', '89507558475', '89273568274'}\n",
      "24\n"
     ]
    }
   ],
   "source": [
    "print(base)\n",
    "print(len(base))"
   ]
  },
  {
   "cell_type": "code",
   "execution_count": 3,
   "metadata": {},
   "outputs": [
    {
     "name": "stdout",
     "output_type": "stream",
     "text": [
      "{'kozlitina_25', '@yliapomanovna', '89044427796', '@sandrak_22', '89524148925', '@dasha_eremina', '@sema_kosh', '@popkorn007', '@d_solovei', '@katty_2106', '@spassibaattika', '89615810171', '89188501252', 'skm_love', 'libertystates', '89515387474', '89649318432', '79996998426', 'khorkovayu', 'https://tme/radoniz', '89064230588', 'https://tme/li_anova', '89614078688', 'daryadasany', '@tulusheva', '@dashashulman'}\n",
      "26\n"
     ]
    }
   ],
   "source": [
    "print(base)\n",
    "print(len(base))"
   ]
  },
  {
   "cell_type": "code",
   "execution_count": 2,
   "metadata": {},
   "outputs": [
    {
     "name": "stdout",
     "output_type": "stream",
     "text": [
      "{'@lordofmordor', '89281665928', '89896122964', 'margomargo_s', '89034728782', '9054264464', '89613244246', '89518234857', '@ornelllo', 'ddau42', '@dj_jenny', '@kira_avedova'}\n",
      "12\n"
     ]
    }
   ],
   "source": [
    "print(base)\n",
    "print(len(base))"
   ]
  },
  {
   "cell_type": "code",
   "execution_count": 13,
   "metadata": {},
   "outputs": [
    {
     "name": "stdout",
     "output_type": "stream",
     "text": [
      "500\n"
     ]
    }
   ],
   "source": [
    "import time\n",
    "from selenium import webdriver\n",
    "from selenium.webdriver.chrome.service import Service\n",
    "import warnings\n",
    "import string\n",
    "\n",
    "warnings.filterwarnings(\"ignore\")\n",
    "s = Service('/Users/maksimveretennikov/Desktop/Coding/Project_Badoo/chromedriver')\n",
    "driver = webdriver.Chrome(service = s)\n",
    "driver.get('https://badoo.com/en-us/signin/?f=top')\n",
    "\n",
    "n_likes = 0\n",
    "\n",
    "def login():\n",
    "    try:\n",
    "        login_field = driver.find_element_by_css_selector('.js-signin-login')\n",
    "        login_field.send_keys('veretennikov.maksi@yandex.ru')\n",
    "        pass_field = driver.find_element_by_css_selector('.js-signin-password')\n",
    "        pass_field.send_keys('192837465m')\n",
    "        time.sleep(2)\n",
    "        btn_login = driver.find_element_by_css_selector('.btn--block')\n",
    "        btn_login.click()\n",
    "        time.sleep(6)\n",
    "    except Exception as e: \n",
    "        print('Не логинится( Ошибка:')\n",
    "        print(e)\n",
    "    \n",
    "def skip():\n",
    "    try:\n",
    "        time.sleep(1)\n",
    "        btn_skip = driver.find_element_by_css_selector('.js-chrome-pushes-deny')\n",
    "        btn_skip.click()\n",
    "        time.sleep(1)\n",
    "    except Exception as e: \n",
    "        print('Не пропускает сообщение( Ошибка:')\n",
    "        print(e)\n",
    "\n",
    "def like(n):\n",
    "    global n_likes\n",
    "    \n",
    "    for i in range(n):\n",
    "        try:\n",
    "            time.sleep(0.2)\n",
    "            btn_like = driver.find_element_by_css_selector('.js-profile-header-vote-yes')\n",
    "            btn_like.click()\n",
    "\n",
    "            if n_likes == 0:\n",
    "                skip()\n",
    "            n_likes += 1\n",
    "        except Exception as e: \n",
    "            print('Не лайкает( Ошибка:')\n",
    "            print(e) \n",
    "            break\n",
    "    \n",
    "login()\n",
    "    \n",
    "like(500)     \n",
    "\n",
    "print(n_likes)\n",
    "\n",
    "\n",
    "\n",
    "\n",
    "\n",
    "time.sleep(30)\n"
   ]
  },
  {
   "cell_type": "code",
   "execution_count": 6,
   "metadata": {},
   "outputs": [
    {
     "name": "stdout",
     "output_type": "stream",
     "text": [
      "3\n"
     ]
    }
   ],
   "source": [
    "a = [1, 2, 3]\n",
    "print(a[-1])"
   ]
  },
  {
   "cell_type": "code",
   "execution_count": 17,
   "metadata": {},
   "outputs": [],
   "source": [
    "import yapf.yapflib.yapf_api"
   ]
  },
  {
   "cell_type": "code",
   "execution_count": 5,
   "metadata": {},
   "outputs": [
    {
     "name": "stdout",
     "output_type": "stream",
     "text": [
      "6\n"
     ]
    }
   ],
   "source": [
    "a = [2, 3, 4]\n",
    "b = [4, 6, 5]\n",
    "a = list(set(a + b))\n",
    "print(a[-1])"
   ]
  },
  {
   "cell_type": "code",
   "execution_count": 4,
   "metadata": {},
   "outputs": [
    {
     "name": "stdout",
     "output_type": "stream",
     "text": [
      "20.0% has passed 40.0% has passed 60.0% has passed 80.0% has passed 100.0% has passed "
     ]
    }
   ],
   "source": [
    "import time\n",
    "for i in range(5):\n",
    "    print(str(100 * (i + 1) / 5 )  + '%', 'has passed', end = ' ')\n",
    "    time.sleep(2)"
   ]
  },
  {
   "cell_type": "code",
   "execution_count": 6,
   "metadata": {},
   "outputs": [
    {
     "name": "stdout",
     "output_type": "stream",
     "text": [
      "a\n",
      "c\n",
      "d\n"
     ]
    }
   ],
   "source": [
    "print('a', end = '')\n",
    "print(end = '\\n')\n",
    "print('c')\n",
    "print('d')"
   ]
  },
  {
   "cell_type": "code",
   "execution_count": 2,
   "metadata": {},
   "outputs": [
    {
     "data": {
      "text/plain": [
       "[1, 3, 0, 2]"
      ]
     },
     "execution_count": 2,
     "metadata": {},
     "output_type": "execute_result"
    }
   ],
   "source": [
    "items = [1, 3, 0, 1, 3, 2]\n",
    "list(dict.fromkeys(items))"
   ]
  },
  {
   "cell_type": "code",
   "execution_count": null,
   "metadata": {},
   "outputs": [
    {
     "name": "stdout",
     "output_type": "stream",
     "text": [
      "Press Ctrl + C\n",
      "Press Ctrl + C\n",
      "Press Ctrl + C\n",
      "Signal Number: 2  Frame:  <frame at 0x7fee13dc98c0, file '<ipython-input-1-5d93e63d2c25>', line 21, code <module>>\n",
      "Press Ctrl + C\n",
      "Press Ctrl + C\n",
      "Press Ctrl + C\n"
     ]
    }
   ],
   "source": [
    "import signal  \n",
    "import time  \n",
    "\n",
    "# Our signal handler\n",
    "def signal_handler(signum, frame):  \n",
    "    print(\"Signal Number:\", signum, \" Frame: \", frame)  \n",
    "\n",
    "def exit_handler(signum, frame):\n",
    "    print('Exiting....')\n",
    "    exit(0)\n",
    "\n",
    "# Register our signal handler with `SIGINT`(CTRL + C)\n",
    "signal.signal(signal.SIGINT, signal_handler)\n",
    "\n",
    "# Register the exit handler with `SIGTSTP` (Ctrl + Z)\n",
    "signal.signal(signal.SIGTSTP, exit_handler)\n",
    "\n",
    "# While Loop\n",
    "while 1:  \n",
    "    print(\"Press Ctrl + C\") \n",
    "    time.sleep(3) "
   ]
  },
  {
   "cell_type": "code",
   "execution_count": null,
   "metadata": {},
   "outputs": [],
   "source": [
    "base = set()\n",
    "base.add('aa')\n",
    "print(base)\n",
    "a = 'https://badoo.com/profile/0zAhMACTkyMzI4NDIxMQgu7lxkAAAAACDdUtRSiJ2jiLIgwEROMWvqP2iiYXfDudCOI3coT8cFqQ?from=messenger'\n",
    "print(a[5:])"
   ]
  },
  {
   "cell_type": "code",
   "execution_count": null,
   "metadata": {},
   "outputs": [],
   "source": []
  }
 ],
 "metadata": {
  "kernelspec": {
   "display_name": "Python 3",
   "language": "python",
   "name": "python3"
  },
  "language_info": {
   "codemirror_mode": {
    "name": "ipython",
    "version": 3
   },
   "file_extension": ".py",
   "mimetype": "text/x-python",
   "name": "python",
   "nbconvert_exporter": "python",
   "pygments_lexer": "ipython3",
   "version": "3.7.6"
  }
 },
 "nbformat": 4,
 "nbformat_minor": 4
}
